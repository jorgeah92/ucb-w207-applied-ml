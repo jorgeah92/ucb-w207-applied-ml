{
 "cells": [
  {
   "cell_type": "markdown",
   "metadata": {},
   "source": [
    "This notebook is intended to introduce you to running ipython notebook and to familiarize you with some basics of numpy, matplotlib, and sklearn, which you'll use extensively in this course. Read through the commands, try making changes, and make sure you understand how the plots below are generated.\n",
    "\n",
    "In your projects, you should focus on making your code as readable as possible. Use lots of comments -- see the code below -- and try to prefer clarity over compact code.\n",
    "\n",
    "You should also familiarize yourself with the various keyboard shortcuts for moving between cells and running cells. Ctrl-ENTER runs a cell, while shift-ENTER runs a cell and advances focus to the next cell."
   ]
  },
  {
   "cell_type": "markdown",
   "metadata": {},
   "source": [
    "The first code cell just contains setup calls -- importing libraries and some other global settings to make things run smoothly."
   ]
  },
  {
   "cell_type": "code",
   "execution_count": 1,
   "metadata": {},
   "outputs": [],
   "source": [
    "# Import a bunch of libraries.\n",
    "import numpy as np\n",
    "import matplotlib.pyplot as plt\n",
    "from sklearn.preprocessing import PolynomialFeatures\n",
    "from sklearn.linear_model import LinearRegression\n",
    "from sklearn.pipeline import Pipeline\n",
    "\n",
    "# This tells matplotlib not to try opening a new window for each plot.\n",
    "%matplotlib inline"
   ]
  },
  {
   "cell_type": "markdown",
   "metadata": {},
   "source": [
    "Start by setting the randomizer seed so results are the same each time. We'll use a random number generator later."
   ]
  },
  {
   "cell_type": "code",
   "execution_count": 2,
   "metadata": {},
   "outputs": [],
   "source": [
    "np.random.seed(100)"
   ]
  },
  {
   "cell_type": "markdown",
   "metadata": {},
   "source": [
    "Generate evenly spaced X values in [0,1] using linspace.\n",
    "X is a numpy array, in particular a multi-dimensional \"ndarray\".\n",
    "Try looking at the documentation for ndarray:\n",
    "http://docs.scipy.org/doc/numpy/reference/arrays.ndarray.html"
   ]
  },
  {
   "cell_type": "code",
   "execution_count": 11,
   "metadata": {},
   "outputs": [
    {
     "name": "stdout",
     "output_type": "stream",
     "text": [
      "[0.         0.03448276 0.06896552 0.10344828 0.13793103 0.17241379\n",
      " 0.20689655 0.24137931 0.27586207 0.31034483 0.34482759 0.37931034\n",
      " 0.4137931  0.44827586 0.48275862 0.51724138 0.55172414 0.5862069\n",
      " 0.62068966 0.65517241 0.68965517 0.72413793 0.75862069 0.79310345\n",
      " 0.82758621 0.86206897 0.89655172 0.93103448 0.96551724 1.        ]\n",
      "<class 'numpy.ndarray'>\n",
      "(30,)\n"
     ]
    }
   ],
   "source": [
    "# How many samples to generate. Try adjusting this value.\n",
    "n_samples = 30\n",
    "\n",
    "X = np.linspace(0, 1, n_samples)\n",
    "\n",
    "# Inspect X.\n",
    "print(X)\n",
    "print(type(X))\n",
    "print(X.shape)"
   ]
  },
  {
   "cell_type": "markdown",
   "metadata": {},
   "source": [
    "Let's create a \"true\" function that we will try to approximate with a model, below. We'll use python's lambda syntax, which makes it easy to define a simple function in a single line. See here for more details:\n",
    "\n",
    "http://www.python-course.eu/lambda.php\n"
   ]
  },
  {
   "cell_type": "code",
   "execution_count": 12,
   "metadata": {},
   "outputs": [
    {
     "name": "stdout",
     "output_type": "stream",
     "text": [
      "1.0\n",
      "-0.7071067811865475\n",
      "[ 1.         -0.70710678]\n"
     ]
    }
   ],
   "source": [
    "# Set the true function as a piece of a cosine curve.\n",
    "true_function = lambda x: np.cos(1.5 * np.pi * x)\n",
    "\n",
    "# Try it out. Notice that you can apply the function to a scalar or an array.\n",
    "print(true_function(0))\n",
    "print(true_function(0.5))\n",
    "print(true_function(np.array([0, 0.5])))"
   ]
  },
  {
   "cell_type": "markdown",
   "metadata": {},
   "source": [
    "Now, let's generate noisy observations of our true function. This simulates something like the situation we encounter in the real world: we observe noisy data from which we'd like to infer a model."
   ]
  },
  {
   "cell_type": "code",
   "execution_count": 13,
   "metadata": {},
   "outputs": [
    {
     "name": "stdout",
     "output_type": "stream",
     "text": [
      "['1.00', '0.99', '0.95', '0.88', '0.80', '0.69', '0.56', '0.42', '0.27', '0.11', '-0.05', '-0.21', '-0.37', '-0.52', '-0.65', '-0.76', '-0.86', '-0.93', '-0.98', '-1.00', '-0.99', '-0.96', '-0.91', '-0.83', '-0.73', '-0.61', '-0.47', '-0.32', '-0.16', '-0.00']\n",
      "['1.32', '1.30', '0.90', '0.72', '0.83', '0.88', '0.71', '0.69', '0.20', '0.12', '-0.01', '-0.50', '-0.52', '-0.35', '-0.50', '-0.85', '-0.62', '-1.27', '-1.25', '-1.25', '-1.10', '-1.10', '-0.91', '-0.95', '-0.47', '-0.95', '-0.67', '-0.25', '-0.48', '0.29']\n"
     ]
    }
   ],
   "source": [
    "# Generate true y values.\n",
    "y = true_function(X)\n",
    "\n",
    "# Print the values of y to the nearest hundredth.\n",
    "print(['%.2f' %i for i in y])\n",
    "\n",
    "# Add random noise to y.\n",
    "# The randn function samples random numbers from the standard Normal distribution.\n",
    "# Multiplying adjusts the standard deviation of the distribution.\n",
    "y += np.random.randn(n_samples) * 0.2\n",
    "\n",
    "# Print the noise-added values of y for comparison.\n",
    "print(['%.2f' %i for i in y])"
   ]
  },
  {
   "cell_type": "markdown",
   "metadata": {},
   "source": [
    "Ok. Now we have some outputs, y, that we want to predict, and some inputs X. In general, our outputs (in this course) will always be 1-dimensional. Our inputs will usually have more than 1 dimension -- we'll call these our features. But here, for simplicity, we have just a single feature. \n",
    "\n",
    "Since the machine learning classes in sklearn expect input feature vectors, we need to turn each input x in X into a feature vector [x]."
   ]
  },
  {
   "cell_type": "code",
   "execution_count": 14,
   "metadata": {},
   "outputs": [
    {
     "name": "stdout",
     "output_type": "stream",
     "text": [
      "[[0.        ]\n",
      " [0.03448276]\n",
      " [0.06896552]\n",
      " [0.10344828]\n",
      " [0.13793103]\n",
      " [0.17241379]\n",
      " [0.20689655]\n",
      " [0.24137931]\n",
      " [0.27586207]\n",
      " [0.31034483]\n",
      " [0.34482759]\n",
      " [0.37931034]\n",
      " [0.4137931 ]\n",
      " [0.44827586]\n",
      " [0.48275862]\n",
      " [0.51724138]\n",
      " [0.55172414]\n",
      " [0.5862069 ]\n",
      " [0.62068966]\n",
      " [0.65517241]\n",
      " [0.68965517]\n",
      " [0.72413793]\n",
      " [0.75862069]\n",
      " [0.79310345]\n",
      " [0.82758621]\n",
      " [0.86206897]\n",
      " [0.89655172]\n",
      " [0.93103448]\n",
      " [0.96551724]\n",
      " [1.        ]]\n"
     ]
    }
   ],
   "source": [
    "# Another way to do this is np.transpose([X]). Read more about array indexing for details.\n",
    "X = X[:, np.newaxis]\n",
    "print(X)"
   ]
  },
  {
   "cell_type": "markdown",
   "metadata": {},
   "source": [
    "Since you're already familiar with linear regression, let's try that first. Check out the sklearn documentation for linear regression:\n",
    "\n",
    "http://scikit-learn.org/stable/modules/generated/sklearn.linear_model.LinearRegression.html"
   ]
  },
  {
   "cell_type": "code",
   "execution_count": 17,
   "metadata": {},
   "outputs": [
    {
     "name": "stdout",
     "output_type": "stream",
     "text": [
      "0.7825790732313082\n",
      "[-1.96740678]\n",
      "Estimated function: y = 0.78 + -1.97x\n"
     ]
    }
   ],
   "source": [
    "# Try setting fit_intercept=False as well.\n",
    "lr = LinearRegression(fit_intercept=True)\n",
    "lr.fit(X, y)\n",
    "print(lr.intercept_)\n",
    "print(lr.coef_)\n",
    "print('Estimated function: y = %.2f + %.2fx' %(lr.intercept_, lr.coef_[0]))"
   ]
  },
  {
   "cell_type": "markdown",
   "metadata": {},
   "source": [
    "Approximating a cosine function with a linear model doesn't work so well. By adding polynomial transformations of our feature(s), we can fit more complex functions. This is often called polynomial regression. Take a look at the sklearn documentation for the PolynomialFeatures preprocessor:\n",
    "\n",
    "http://scikit-learn.org/stable/modules/generated/sklearn.preprocessing.PolynomialFeatures.html\n",
    "\n",
    "You'll notice that the sklearn classes have many of the same function names like fit() and fit_transform()."
   ]
  },
  {
   "cell_type": "code",
   "execution_count": 23,
   "metadata": {},
   "outputs": [
    {
     "name": "stdout",
     "output_type": "stream",
     "text": [
      "[[0.         0.        ]\n",
      " [0.03448276 0.00118906]\n",
      " [0.06896552 0.00475624]\n",
      " [0.10344828 0.01070155]\n",
      " [0.13793103 0.01902497]\n",
      " [0.17241379 0.02972652]\n",
      " [0.20689655 0.04280618]\n",
      " [0.24137931 0.05826397]\n",
      " [0.27586207 0.07609988]\n",
      " [0.31034483 0.09631391]\n",
      " [0.34482759 0.11890606]\n",
      " [0.37931034 0.14387634]\n",
      " [0.4137931  0.17122473]\n",
      " [0.44827586 0.20095125]\n",
      " [0.48275862 0.23305589]\n",
      " [0.51724138 0.26753864]\n",
      " [0.55172414 0.30439952]\n",
      " [0.5862069  0.34363853]\n",
      " [0.62068966 0.38525565]\n",
      " [0.65517241 0.42925089]\n",
      " [0.68965517 0.47562426]\n",
      " [0.72413793 0.52437574]\n",
      " [0.75862069 0.57550535]\n",
      " [0.79310345 0.62901308]\n",
      " [0.82758621 0.68489893]\n",
      " [0.86206897 0.7431629 ]\n",
      " [0.89655172 0.80380499]\n",
      " [0.93103448 0.86682521]\n",
      " [0.96551724 0.93222354]\n",
      " [1.         1.        ]]\n"
     ]
    }
   ],
   "source": [
    "# Try increasing the degree past 2.\n",
    "poly = PolynomialFeatures(degree=2, include_bias=False)\n",
    "X2 = poly.fit_transform(X)\n",
    "print(X2)"
   ]
  },
  {
   "cell_type": "markdown",
   "metadata": {},
   "source": [
    "Now let's fit a linear model where the input features are (x, x^2)."
   ]
  },
  {
   "cell_type": "code",
   "execution_count": 24,
   "metadata": {},
   "outputs": [
    {
     "name": "stdout",
     "output_type": "stream",
     "text": [
      "1.7040847777065922\n",
      "[-7.69390651  5.72649973]\n",
      "Estimated function: y = 1.70 + -7.69x0 + 5.73x1\n"
     ]
    }
   ],
   "source": [
    "lr = LinearRegression(fit_intercept=True)\n",
    "lr.fit(X2, y)\n",
    "print (lr.intercept_)\n",
    "print (lr.coef_)\n",
    "print ('Estimated function: y = %.2f + %.2fx0 + %.2fx1' %(lr.intercept_, lr.coef_[0], lr.coef_[1]))"
   ]
  },
  {
   "cell_type": "markdown",
   "metadata": {},
   "source": [
    "Let's put everything together and try some plotting. We can use sklearn's Pipeline framework to connect the 2 operations, PolynomialFeatures and LinearRegression, both of which have a fit() method."
   ]
  },
  {
   "cell_type": "code",
   "execution_count": 25,
   "metadata": {
    "scrolled": true
   },
   "outputs": [
    {
     "data": {
      "image/png": "[encoded data removed]",
      "text/plain": [
       "<Figure size 1008x288 with 3 Axes>"
      ]
     },
     "metadata": {},
     "output_type": "display_data"
    }
   ],
   "source": [
    "# Below, we'll fit polynomials to the noisy data with these degrees.\n",
    "degrees = [1, 4, 15]\n",
    "\n",
    "# Initialize a new plot.\n",
    "plt.figure(figsize=(14, 4))\n",
    "\n",
    "# We'll create a subplot for each value of the degrees list.\n",
    "for i in range(len(degrees)):\n",
    "    # The subplots are all on the same row.\n",
    "    ax = plt.subplot(1, len(degrees), i+1)\n",
    "    \n",
    "    # Turn off tick marks to keep things clean.\n",
    "    plt.setp(ax, xticks=(), yticks=())\n",
    "\n",
    "    # Set up the polynomial features preprocessor.\n",
    "    polynomial_features = PolynomialFeatures(degree=degrees[i],\n",
    "                                             include_bias=False)\n",
    "\n",
    "    # Use the sklearn's Pipeline to string together 2 operations.\n",
    "    linear_regression = LinearRegression()\n",
    "    pipeline = Pipeline([(\"polynomial_features\", polynomial_features),\n",
    "                         (\"linear_regression\", linear_regression)])\n",
    "\n",
    "    pipeline.fit(X, y)\n",
    "    \n",
    "    # Show samples from the fitted function.\n",
    "    X_test = np.linspace(0, 1, 100)\n",
    "    plt.plot(X_test, pipeline.predict(X_test[:, np.newaxis]), label=\"Model\")\n",
    "\n",
    "    # Show the true function.\n",
    "    plt.plot(X_test, true_function(X_test), label=\"True function\")\n",
    "\n",
    "    # Show the original noisy samples.\n",
    "    plt.scatter(X, y, label=\"Samples\")\n",
    "\n",
    "    # Add a few more labels to the plot.\n",
    "    plt.xlabel(\"x\")\n",
    "    plt.ylabel(\"y\")\n",
    "    plt.xlim((-.05, 1.05))\n",
    "    plt.ylim((-2, 2))\n",
    "    plt.legend(loc=\"best\")\n",
    "    plt.title(\"Degree %d\" % degrees[i])\n",
    "\n",
    "# Render the plots.\n",
    "plt.show()"
   ]
  },
  {
   "cell_type": "markdown",
   "metadata": {},
   "source": [
    "The machine learning lesson here is that we are interested in the smallest model that fits our data the best. Clearly, the degree 1 model, while very small (only 2 parameters), doesn't fit the observed data well. The degree 15 model fits the observed data extremely well, but is unlikely to generalize to new data. This is a case of \"over-fitting\", which often happens when we try to estimate too many parameters from just a few examples. The degree 4 model appears to be a good blend of small model size and good generalization."
   ]
  },
  {
   "cell_type": "code",
   "execution_count": null,
   "metadata": {},
   "outputs": [],
   "source": []
  }
 ],
 "metadata": {
  "kernelspec": {
   "display_name": "Python 3",
   "language": "python",
   "name": "python3"
  },
  "language_info": {
   "codemirror_mode": {
    "name": "ipython",
    "version": 3
   },
   "file_extension": ".py",
   "mimetype": "text/x-python",
   "name": "python",
   "nbconvert_exporter": "python",
   "pygments_lexer": "ipython3",
   "version": "3.7.6"
  }
 },
 "nbformat": 4,
 "nbformat_minor": 1
}
