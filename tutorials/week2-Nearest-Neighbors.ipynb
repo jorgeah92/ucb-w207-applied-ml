{
 "cells": [
  {
   "cell_type": "markdown",
   "metadata": {},
   "source": [
    "### Build and test a Nearest Neighbors classifier."
   ]
  },
  {
   "cell_type": "markdown",
   "metadata": {},
   "source": [
    "Load the relevant packages."
   ]
  },
  {
   "cell_type": "code",
   "execution_count": 1,
   "metadata": {},
   "outputs": [],
   "source": [
    "# This tells matplotlib not to try opening a new window for each plot.\n",
    "%matplotlib inline\n",
    "\n",
    "import matplotlib.pyplot as plt\n",
    "import numpy as np\n",
    "from sklearn.neighbors import KNeighborsClassifier\n",
    "from sklearn.datasets import load_iris"
   ]
  },
  {
   "cell_type": "markdown",
   "metadata": {},
   "source": [
    "Load the Iris data to use for experiments. The data include 50 observations of each of 3 types of irises (150 total). Each observation includes 4 measurements: sepal and petal width and height. The goal is to predict the iris type from these measurements.\n",
    "\n",
    "<http://en.wikipedia.org/wiki/Iris_flower_data_set>"
   ]
  },
  {
   "cell_type": "code",
   "execution_count": 2,
   "metadata": {},
   "outputs": [
    {
     "name": "stdout",
     "output_type": "stream",
     "text": [
      "Iris target names: ['setosa' 'versicolor' 'virginica']\n",
      "Iris feature names: ['sepal length (cm)', 'sepal width (cm)', 'petal length (cm)', 'petal width (cm)']\n"
     ]
    }
   ],
   "source": [
    "# Load the data, which is included in sklearn.\n",
    "iris = load_iris()\n",
    "print('Iris target names:', iris.target_names)\n",
    "print('Iris feature names:', iris.feature_names)\n",
    "X, Y = iris.data, iris.target\n",
    "\n",
    "# Shuffle the data, but make sure that the features and accompanying labels stay in sync.\n",
    "np.random.seed(0)\n",
    "# Shuffle to make sure that no bias is taken when spliting data\n",
    "shuffle = np.random.permutation(np.arange(X.shape[0]))\n",
    "X, Y = X[shuffle], Y[shuffle]\n",
    "\n",
    "# Split into train and test.\n",
    "train_data, train_labels = X[:100], Y[:100]\n",
    "test_data, test_labels = X[100:], Y[100:]"
   ]
  },
  {
   "cell_type": "markdown",
   "metadata": {},
   "source": [
    "Create a distance function that returns the distance between 2 observations."
   ]
  },
  {
   "cell_type": "code",
   "execution_count": 3,
   "metadata": {},
   "outputs": [],
   "source": [
    "def EuclideanDistance(v1, v2):\n",
    "    sum = 0.0\n",
    "    for index in range(len(v1)):\n",
    "        sum += (v1[index] - v2[index]) ** 2\n",
    "    return sum ** 0.5"
   ]
  },
  {
   "cell_type": "markdown",
   "metadata": {},
   "source": [
    "Just for fun, let's compute all the pairwise distances in the training data and plot a histogram."
   ]
  },
  {
   "cell_type": "code",
   "execution_count": 4,
   "metadata": {},
   "outputs": [
    {
     "data": {
      "image/png": "[encoded data removed]",
      "text/plain": [
       "<Figure size 432x288 with 1 Axes>"
      ]
     },
     "metadata": {
      "needs_background": "light"
     },
     "output_type": "display_data"
    }
   ],
   "source": [
    "dists = []\n",
    "for i in range(len(train_data) - 1):\n",
    "    for j in range(i + 1, len(train_data)):\n",
    "        dist = EuclideanDistance(train_data[i], train_data[j])\n",
    "        dists.append(dist)\n",
    "        \n",
    "fig = plt.hist(dists, 100)\n",
    "# Double peaked due to having a bunch of close points and a bunch of far away points"
   ]
  },
  {
   "cell_type": "markdown",
   "metadata": {},
   "source": [
    "Ok now let's create a class that implements a Nearest Neighbors classifier. We'll model it after the sklearn classifier implementations, with fit() and predict() methods.\n",
    "\n",
    "<http://scikit-learn.org/stable/modules/generated/sklearn.neighbors.KNeighborsClassifier.html#sklearn.neighbors.KNeighborsClassifier>"
   ]
  },
  {
   "cell_type": "code",
   "execution_count": 5,
   "metadata": {},
   "outputs": [],
   "source": [
    "class NearestNeighbors:\n",
    "    # Initialize an instance of the class.\n",
    "    def __init__(self, metric=EuclideanDistance):\n",
    "        self.metric = metric\n",
    "    \n",
    "    # No training for Nearest Neighbors. Just store the data.\n",
    "    def fit(self, train_data, train_labels):\n",
    "        self.train_data = train_data\n",
    "        self.train_labels = train_labels\n",
    "    \n",
    "    # Make predictions for each test example and return results.\n",
    "    def predict(self, test_data):\n",
    "        results = []\n",
    "        for item in test_data:\n",
    "            results.append(self._predict_item(item))\n",
    "        return results\n",
    "    \n",
    "    # Private function for making a single prediction.\n",
    "    def _predict_item(self, item):\n",
    "        best_dist, best_label = 1.0e10, None\n",
    "        for i in range(len(self.train_data)):\n",
    "            dist = self.metric(self.train_data[i], item)\n",
    "            if dist < best_dist:\n",
    "                best_label = self.train_labels[i]\n",
    "                best_dist = dist\n",
    "        return best_label"
   ]
  },
  {
   "cell_type": "markdown",
   "metadata": {},
   "source": [
    "Run an experiment with the classifier."
   ]
  },
  {
   "cell_type": "code",
   "execution_count": 6,
   "metadata": {},
   "outputs": [
    {
     "name": "stdout",
     "output_type": "stream",
     "text": [
      "total:  50  correct:  48  accuracy: 0.96\n"
     ]
    }
   ],
   "source": [
    "clf = NearestNeighbors()\n",
    "clf.fit(train_data, train_labels)\n",
    "preds = clf.predict(test_data)\n",
    "\n",
    "correct, total = 0, 0\n",
    "for pred, label in zip(preds, test_labels):\n",
    "    if pred == label: correct += 1\n",
    "    total += 1\n",
    "print('total: %3d  correct: %3d  accuracy: %3.2f' %(total, correct, 1.0*correct/total))"
   ]
  },
  {
   "cell_type": "markdown",
   "metadata": {},
   "source": [
    "Now, lets create our own data to test the effect of normalization"
   ]
  },
  {
   "cell_type": "code",
   "execution_count": 7,
   "metadata": {},
   "outputs": [
    {
     "data": {
      "text/plain": [
       "Text(0.5, 1.0, 'Data Scatterplot; Red: Class 0; Blue: Class 1')"
      ]
     },
     "execution_count": 7,
     "metadata": {},
     "output_type": "execute_result"
    },
    {
     "data": {
      "image/png": "[encoded data removed]",
      "text/plain": [
       "<Figure size 432x288 with 1 Axes>"
      ]
     },
     "metadata": {
      "needs_background": "light"
     },
     "output_type": "display_data"
    }
   ],
   "source": [
    "np.random.seed(0) # so things are 'random'\n",
    "\n",
    "# a function to generate some simulated data\n",
    "def make_data(n_per_class):\n",
    "    # initializing data arrays\n",
    "    group = np.empty((0, 2))\n",
    "    group_labels = np.empty((0, 0))\n",
    "    \n",
    "    # a function to define the decision boundary between x and y\n",
    "    boundary_function = lambda x: (x**3.0 + 3.0 * x**2.0 - 6.0 * x- 8.0) / 4.0\n",
    "    \n",
    "    for i in range(2):\n",
    "        # x values\n",
    "        x_value = np.random.uniform(-4, 2, size=n_per_class[i])\n",
    "        \n",
    "        \n",
    "        # here's how the decision boundary works: we add noise so the y value point lies above or\n",
    "        # below the decision boundary\n",
    "        if i ==0:\n",
    "            y_noise = np.random.uniform(-0.5, 5.0, size=n_per_class[i])\n",
    "        else:\n",
    "            y_noise = np.random.uniform(-5.0, 0.5, size=n_per_class[i])\n",
    "            \n",
    "        # make the x and y values\n",
    "        y_value = boundary_function(x_value) + y_noise\n",
    "        \n",
    "        x_noise = np.random.uniform(-3, 3, size=n_per_class[i])\n",
    "        x_value = x_value + x_noise\n",
    "        \n",
    "        # assemble the data\n",
    "        tmp_group_data = np.append(x_value, y_value)\n",
    "        tmp_group_data = tmp_group_data.reshape(n_per_class[i], 2, order='F')\n",
    "    \n",
    "        # assemble the labels\n",
    "        tmp_group_labels = np.repeat([i], n_per_class[i])\n",
    "    \n",
    "        group = np.vstack((group, tmp_group_data))\n",
    "        group_labels = np.append(group_labels, tmp_group_labels)\n",
    "    \n",
    "    # return a dict of data and labels\n",
    "    return({'group': group, 'group_labels': group_labels})\n",
    "\n",
    "\n",
    "# make data; get out the data and labels\n",
    "training_data = make_data([100, 100])\n",
    "train_X = training_data['group']\n",
    "train_labels = training_data['group_labels']\n",
    "\n",
    "# plot it!\n",
    "plt.plot(train_X[:, 0], train_X[:, 1], 'ro')\n",
    "plt.plot(train_X[np.where(train_labels==1), 0][0], \n",
    "         train_X[np.where(train_labels==1), 1][0], 'bo')\n",
    "plt.title(\"Data Scatterplot; Red: Class 0; Blue: Class 1\")"
   ]
  },
  {
   "cell_type": "markdown",
   "metadata": {},
   "source": [
    "Leveraging `KNeighborsClassifier` lets check which data points our kNN classifier gets wrong"
   ]
  },
  {
   "cell_type": "code",
   "execution_count": 8,
   "metadata": {},
   "outputs": [
    {
     "name": "stdout",
     "output_type": "stream",
     "text": [
      "number of incorrect predictions: 33\n"
     ]
    },
    {
     "data": {
      "text/plain": [
       "Text(0.5, 1.0, 'Data Scatterplot of Test Data; Red: incorrect prediction')"
      ]
     },
     "execution_count": 8,
     "metadata": {},
     "output_type": "execute_result"
    },
    {
     "data": {
      "image/png": "[encoded data removed]",
      "text/plain": [
       "<Figure size 432x288 with 1 Axes>"
      ]
     },
     "metadata": {
      "needs_background": "light"
     },
     "output_type": "display_data"
    }
   ],
   "source": [
    "np.random.seed(5) # so things are 'random'\n",
    "\n",
    "test_data = make_data([100, 100])\n",
    "test_X = test_data['group']\n",
    "test_true_labels = test_data['group_labels']\n",
    "\n",
    "# try out some different k here\n",
    "model = KNeighborsClassifier(n_neighbors=1)\n",
    "model.fit(train_X, train_labels)\n",
    "test_predicted_labels = model.predict(test_X)\n",
    "\n",
    "wrong_prediction = (test_predicted_labels != test_true_labels)\n",
    "\n",
    "print('number of incorrect predictions:', np.sum(wrong_prediction))\n",
    "\n",
    "plt.plot(test_X[:, 0], test_X[:, 1], 'wo')\n",
    "plt.plot(test_X[np.where(wrong_prediction), 0][0], \n",
    "         test_X[np.where(wrong_prediction), 1][0], 'ro')\n",
    "plt.title(\"Data Scatterplot of Test Data; Red: incorrect prediction\")"
   ]
  },
  {
   "cell_type": "markdown",
   "metadata": {},
   "source": [
    "What are some reasons you can think of for the issue here ? How would you address it ?\n",
    "The one point for k was not good enough to distinguish the prediction. The single wrong point was the closest one but if maybe k was expanded to several points it would show that red was more frequent in that designated area than blue."
   ]
  }
 ],
 "metadata": {
  "kernelspec": {
   "display_name": "Python 3",
   "language": "python",
   "name": "python3"
  },
  "language_info": {
   "codemirror_mode": {
    "name": "ipython",
    "version": 3
   },
   "file_extension": ".py",
   "mimetype": "text/x-python",
   "name": "python",
   "nbconvert_exporter": "python",
   "pygments_lexer": "ipython3",
   "version": "3.7.9"
  }
 },
 "nbformat": 4,
 "nbformat_minor": 1
}
