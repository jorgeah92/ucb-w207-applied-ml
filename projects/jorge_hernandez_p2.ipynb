{
 "cells": [
  {
   "cell_type": "markdown",
   "metadata": {
    "colab_type": "text",
    "id": "6t55qCf3Fsxa"
   },
   "source": [
    "# Project 2: Topic Classification"
   ]
  },
  {
   "cell_type": "markdown",
   "metadata": {
    "colab_type": "text",
    "id": "j9-9G8z4Fsxd"
   },
   "source": [
    "In this project, you'll work with text data from newsgroup postings on a variety of topics. You'll train classifiers to distinguish between the topics based on the text of the posts. Whereas with digit classification, the input is relatively dense: a 28x28 matrix of pixels, many of which are non-zero, here we'll represent each document with a \"bag-of-words\" model. As you'll see, this makes the feature representation quite sparse -- only a few words of the total vocabulary are active in any given document. The bag-of-words assumption here is that the label depends only on the words; their order is not important.\n",
    "\n",
    "The SK-learn documentation on feature extraction will prove useful:\n",
    "http://scikit-learn.org/stable/modules/feature_extraction.html\n",
    "\n",
    "Each problem can be addressed succinctly with the included packages -- please don't add any more. Grading will be based on writing clean, commented code, along with a few short answers.\n",
    "\n",
    "As always, you're welcome to work on the project in groups and discuss ideas on the course wall, but please prepare your own write-up and write your own code."
   ]
  },
  {
   "cell_type": "code",
   "execution_count": 15,
   "metadata": {
    "ExecuteTime": {
     "end_time": "2020-10-17T20:45:14.565835Z",
     "start_time": "2020-10-17T20:45:14.548874Z"
    },
    "colab": {},
    "colab_type": "code",
    "id": "AUYW83LqFsxd"
   },
   "outputs": [],
   "source": [
    "# This tells matplotlib not to try opening a new window for each plot.\n",
    "%matplotlib inline\n",
    "\n",
    "# General libraries.\n",
    "import re\n",
    "import numpy as np\n",
    "import matplotlib.pyplot as plt\n",
    "\n",
    "# SK-learn libraries for learning.\n",
    "from sklearn.pipeline import Pipeline\n",
    "from sklearn.neighbors import KNeighborsClassifier\n",
    "from sklearn.linear_model import LogisticRegression\n",
    "from sklearn.naive_bayes import BernoulliNB\n",
    "from sklearn.naive_bayes import MultinomialNB\n",
    "\n",
    "# SK-learn libraries for evaluation.\n",
    "from sklearn.metrics import confusion_matrix\n",
    "from sklearn import metrics\n",
    "from sklearn.metrics import classification_report\n",
    "\n",
    "# SK-learn library for importing the newsgroup data.\n",
    "from sklearn.datasets import fetch_20newsgroups\n",
    "\n",
    "# SK-learn libraries for feature extraction from text.\n",
    "from sklearn.feature_extraction.text import *\n",
    "\n",
    "import nltk"
   ]
  },
  {
   "cell_type": "markdown",
   "metadata": {
    "colab_type": "text",
    "id": "_ALNjGgCFsxg"
   },
   "source": [
    "Load the data, stripping out metadata so that we learn classifiers that only use textual features. By default, newsgroups data is split into train and test sets. We further split the test so we have a dev set. Note that we specify 4 categories to use for this project. If you remove the categories argument from the fetch function, you'll get all 20 categories."
   ]
  },
  {
   "cell_type": "code",
   "execution_count": 2,
   "metadata": {
    "ExecuteTime": {
     "end_time": "2020-10-17T17:50:24.914125Z",
     "start_time": "2020-10-17T17:50:23.023052Z"
    },
    "colab": {},
    "colab_type": "code",
    "id": "ecYpcoxaFsxh"
   },
   "outputs": [
    {
     "name": "stdout",
     "output_type": "stream",
     "text": [
      "training label shape: (2034,)\n",
      "test label shape: (677,)\n",
      "dev label shape: (676,)\n",
      "labels names: ['alt.atheism', 'comp.graphics', 'sci.space', 'talk.religion.misc']\n"
     ]
    }
   ],
   "source": [
    "categories = ['alt.atheism', 'talk.religion.misc', 'comp.graphics', 'sci.space']\n",
    "newsgroups_train = fetch_20newsgroups(subset='train',\n",
    "                                      remove=('headers', 'footers', 'quotes'),\n",
    "                                      categories=categories)\n",
    "newsgroups_test = fetch_20newsgroups(subset='test',\n",
    "                                     remove=('headers', 'footers', 'quotes'),\n",
    "                                     categories=categories)\n",
    "\n",
    "num_test = int(len(newsgroups_test.target) / 2)\n",
    "test_data, test_labels = newsgroups_test.data[num_test:], newsgroups_test.target[num_test:]\n",
    "dev_data, dev_labels = newsgroups_test.data[:num_test], newsgroups_test.target[:num_test]\n",
    "train_data, train_labels = newsgroups_train.data, newsgroups_train.target\n",
    "\n",
    "print('training label shape:', train_labels.shape)\n",
    "print('test label shape:', test_labels.shape)\n",
    "print('dev label shape:', dev_labels.shape)\n",
    "print('labels names:', newsgroups_train.target_names)"
   ]
  },
  {
   "cell_type": "markdown",
   "metadata": {
    "colab_type": "text",
    "id": "OHTnOke6Fsxk"
   },
   "source": [
    "### Part 1:\n",
    "\n",
    "For each of the first 5 training examples, print the text of the message along with the label."
   ]
  },
  {
   "cell_type": "code",
   "execution_count": 3,
   "metadata": {
    "ExecuteTime": {
     "end_time": "2020-10-17T17:50:36.657187Z",
     "start_time": "2020-10-17T17:50:36.641230Z"
    },
    "colab": {},
    "colab_type": "code",
    "id": "X8zhA06xFsxl"
   },
   "outputs": [
    {
     "name": "stdout",
     "output_type": "stream",
     "text": [
      "Label: 1 - comp.graphics\n",
      "Message: Hi,\n",
      "\n",
      "I've noticed that if you only save a model (with all your mapping planes\n",
      "positioned carefully) to a .3DS file that when you reload it after restarting\n",
      "3DS, they are given a default position and orientation.  But if you save\n",
      "to a .PRJ file their positions/orientation are preserved.  Does anyone\n",
      "know why this information is not stored in the .3DS file?  Nothing is\n",
      "explicitly said in the manual about saving texture rules in the .PRJ file. \n",
      "I'd like to be able to read the texture rule information, does anyone have \n",
      "the format for the .PRJ file?\n",
      "\n",
      "Is the .CEL file format available from somewhere?\n",
      "\n",
      "Rych\n",
      "\n",
      "Label: 3 - talk.religion.misc\n",
      "Message: \n",
      "\n",
      "Seems to be, barring evidence to the contrary, that Koresh was simply\n",
      "another deranged fanatic who thought it neccessary to take a whole bunch of\n",
      "folks with him, children and all, to satisfy his delusional mania. Jim\n",
      "Jones, circa 1993.\n",
      "\n",
      "\n",
      "Nope - fruitcakes like Koresh have been demonstrating such evil corruption\n",
      "for centuries.\n",
      "\n",
      "Label: 2 - sci.space\n",
      "Message: \n",
      " >In article <1993Apr19.020359.26996@sq.sq.com>, msb@sq.sq.com (Mark Brader) \n",
      "\n",
      "MB>                                                             So the\n",
      "MB> 1970 figure seems unlikely to actually be anything but a perijove.\n",
      "\n",
      "JG>Sorry, _perijoves_...I'm not used to talking this language.\n",
      "\n",
      "Couldn't we just say periapsis or apoapsis?\n",
      "\n",
      " \n",
      "\n",
      "Label: 0 - alt.atheism\n",
      "Message: I have a request for those who would like to see Charley Wingate\n",
      "respond to the \"Charley Challenges\" (and judging from my e-mail, there\n",
      "appear to be quite a few of you.)  \n",
      "\n",
      "It is clear that Mr. Wingate intends to continue to post tangential or\n",
      "unrelated articles while ingoring the Challenges themselves.  Between\n",
      "the last two re-postings of the Challenges, I noted perhaps a dozen or\n",
      "more posts by Mr. Wingate, none of which answered a single Challenge.  \n",
      "\n",
      "It seems unmistakable to me that Mr. Wingate hopes that the questions\n",
      "will just go away, and he is doing his level best to change the\n",
      "subject.  Given that this seems a rather common net.theist tactic, I\n",
      "would like to suggest that we impress upon him our desire for answers,\n",
      "in the following manner:\n",
      "\n",
      "1. Ignore any future articles by Mr. Wingate that do not address the\n",
      "Challenges, until he answers them or explictly announces that he\n",
      "refuses to do so.\n",
      "\n",
      "--or--\n",
      "\n",
      "2. If you must respond to one of his articles, include within it\n",
      "something similar to the following:\n",
      "\n",
      "    \"Please answer the questions posed to you in the Charley Challenges.\"\n",
      "\n",
      "Really, I'm not looking to humiliate anyone here, I just want some\n",
      "honest answers.  You wouldn't think that honesty would be too much to\n",
      "ask from a devout Christian, would you?  \n",
      "\n",
      "Nevermind, that was a rhetorical question.\n",
      "\n",
      "Label: 2 - sci.space\n",
      "Message: AW&ST  had a brief blurb on a Manned Lunar Exploration confernce\n",
      "May 7th  at Crystal City Virginia, under the auspices of AIAA.\n",
      "\n",
      "Does anyone know more about this?  How much, to attend????\n",
      "\n",
      "Anyone want to go?\n",
      "\n"
     ]
    }
   ],
   "source": [
    "#def P1(num_examples=5):\n",
    "### STUDENT START ###\n",
    "for x in range(5):\n",
    "    print(\"Label:\", train_labels[x], \"-\", newsgroups_train.target_names[int(train_labels[x])])\n",
    "    print(\"Message:\", train_data[x])\n",
    "    print(\"\")\n",
    "### STUDENT END ###\n",
    "#P1()"
   ]
  },
  {
   "cell_type": "markdown",
   "metadata": {
    "colab_type": "text",
    "id": "onfno6uHFsxm"
   },
   "source": [
    "### Part 2:\n",
    "\n",
    "Use CountVectorizer to turn the raw training text into feature vectors. You should use the fit_transform function, which makes 2 passes through the data: first it computes the vocabulary (\"fit\"), second it converts the raw text into feature vectors using the vocabulary (\"transform\").\n",
    "\n",
    "The vectorizer has a lot of options. To get familiar with some of them, write code to answer these questions:\n",
    "\n",
    "a. The output of the transform (also of fit_transform) is a sparse matrix: http://docs.scipy.org/doc/scipy-0.14.0/reference/generated/scipy.sparse.csr_matrix.html. What is the size of the vocabulary? What is the average number of non-zero features per example? What fraction of the entries in the matrix are non-zero? Hint: use \"nnz\" and \"shape\" attributes.\n",
    "\n",
    "b. What are the 0th and last feature strings (in alphabetical order)? Hint: use the vectorizer's get_feature_names function.\n",
    "\n",
    "c. Specify your own vocabulary with 4 words: [\"atheism\", \"graphics\", \"space\", \"religion\"]. Confirm the training vectors are appropriately shaped. Now what's the average number of non-zero features per example?\n",
    "\n",
    "d. Instead of extracting unigram word features, use \"analyzer\" and \"ngram_range\" to extract bigram and trigram character features. What size vocabulary does this yield?\n",
    "\n",
    "e. Use the \"min_df\" argument to prune words that appear in fewer than 10 documents. What size vocabulary does this yield?\n",
    "\n",
    "f. Using the standard CountVectorizer, what fraction of the words in the dev data are missing from the vocabulary? Hint: build a vocabulary for both train and dev and look at the size of the difference."
   ]
  },
  {
   "cell_type": "code",
   "execution_count": 4,
   "metadata": {
    "ExecuteTime": {
     "end_time": "2020-10-17T17:50:53.841590Z",
     "start_time": "2020-10-17T17:50:51.214512Z"
    },
    "colab": {},
    "colab_type": "code",
    "id": "LyVwk5RvFsxn"
   },
   "outputs": [
    {
     "name": "stdout",
     "output_type": "stream",
     "text": [
      "The size of the training data vocabulary is: 26879\n",
      "Average number of non-zero per example: 96.706\n",
      "Percentage of non-zeros to total is: 0.36\n",
      "\n",
      "First and last feature strings: ['00', 'zyxel']\n",
      "\n",
      "Average number of non-zeros per example, defined vocabulary: 0.268\n",
      "\n",
      "Bigram vocabulary size: 194891\n",
      "Trigram vocabulary size: 315692\n",
      "\n",
      "Vocabulary size using 'min_df': 3064\n",
      "\n",
      "Percentage vocabulary missing in dev vocabulary: 39.559\n"
     ]
    }
   ],
   "source": [
    "#def P2():\n",
    "### STUDENT START ###\n",
    "# Turns the training data into feature vectors, default parameters\n",
    "CV = CountVectorizer()\n",
    "train_fit = CV.fit_transform(train_data)\n",
    "# Exmaining the default vocabulary formed by countvectorizer - a\n",
    "print(\"The size of the training data vocabulary is:\", train_fit.shape[1])\n",
    "print(\"Average number of non-zero per example:\", round(train_fit.nnz / len(train_data), 3))\n",
    "print(\"Percentage of non-zeros to total is:\", round((train_fit.nnz / np.size(train_fit.toarray())) * 100, 3))\n",
    "print(\"\")\n",
    "# Prints first and last feature string - b\n",
    "print(\"First and last feature strings:\", [CV.get_feature_names()[i] for i in (0, -1)])\n",
    "print(\"\")\n",
    "# Adding customer vocabulary - c\n",
    "my_vocab = [\"atheism\", \"graphics\", \"space\", \"religion\"]\n",
    "vocab_CV = CountVectorizer(vocabulary=my_vocab)\n",
    "vocab_fit = vocab_CV.fit_transform(train_data)\n",
    "print(\"Custom vocabulary matrix shape:\", vocab_fit.shape)\n",
    "print(\"Average number of non-zeros per example, defined vocabulary:\", round(vocab_fit.nnz / len(train_data), 3))\n",
    "print(\"\")\n",
    "# Testing bigram and trigram features - d\n",
    "bigram_CV = CountVectorizer(analyzer=\"word\", ngram_range=(2,2))\n",
    "bigram_fit = bigram_CV.fit_transform(train_data)\n",
    "print(\"Bigram vocabulary size:\", bigram_fit.shape[1])\n",
    "trigram_CV = CountVectorizer(analyzer=\"word\", ngram_range=(3,3))\n",
    "trigram_fit = trigram_CV.fit_transform(train_data)\n",
    "print(\"Trigram vocabulary size:\", trigram_fit.shape[1])\n",
    "print(\"\")\n",
    "# Restricting types of words added to vocabulary based on frequency - e\n",
    "min_CV = CountVectorizer(min_df = 10)\n",
    "min_fit = min_CV.fit_transform(train_data)\n",
    "print(\"Vocabulary size using 'min_df':\", min_fit.shape[1])\n",
    "print(\"\")\n",
    "# Comparing train_data with dev_data - f\n",
    "dev_fit = CV.fit_transform(dev_data)\n",
    "print(\"Percentage vocabulary missing in dev vocabulary:\", \n",
    "      round(100 * (train_fit.shape[1] - dev_fit.shape[1]) / train_fit.shape[1], 3))\n",
    "### STUDENT END ###\n",
    "#P2()"
   ]
  },
  {
   "cell_type": "markdown",
   "metadata": {
    "colab_type": "text",
    "id": "ydjkRh6LFsxp"
   },
   "source": [
    "### Part 3:\n",
    "\n",
    "Use the default CountVectorizer options and report the f1 score (use metrics.f1_score with average=\"weighted\") for a k nearest neighbors classifier; find the optimal value for k. Also fit a Multinomial Naive Bayes model and find the optimal value for alpha. Finally, fit a logistic regression model and find the optimal value for the regularization strength C using l2 regularization. A few questions:\n",
    "\n",
    "* Why doesn't nearest neighbors work well for this problem?\n",
    "* Any ideas why logistic regression doesn't work as well as Naive Bayes?\n",
    "* Logistic regression estimates a weight vector for each class, which you can access with the coef\\_ attribute. Output the sum of the squared weight values for each class for each setting of the C parameter. Briefly explain the relationship between the sum and the value of C."
   ]
  },
  {
   "cell_type": "code",
   "execution_count": 10,
   "metadata": {
    "ExecuteTime": {
     "end_time": "2020-10-17T20:23:06.246345Z",
     "start_time": "2020-10-17T20:23:04.120143Z"
    },
    "colab": {},
    "colab_type": "code",
    "id": "VvhpODdWFsxp"
   },
   "outputs": [
    {
     "name": "stdout",
     "output_type": "stream",
     "text": [
      "The f1 score for k-Nearest Neighbors is: 0.4535\n",
      "The f1 score for Multinominal Naive Bayes is: 0.7903\n",
      "The f1 score for Logistic Regression is: 0.6971\n",
      "Sum of squared weights for each class:\n",
      "[[-3.10351069e-02  2.36524719e-02 -2.38195366e-05 ... -1.39132271e-04\n",
      "  -2.78264541e-04 -1.30582969e-04]\n",
      " [ 6.85519276e-02  2.66661125e-02 -2.30175293e-03 ... -4.48728658e-04\n",
      "  -8.97457317e-04  4.51644208e-03]\n",
      " [-1.13419621e-02 -5.18815746e-02  2.91071004e-03 ...  6.87273777e-04\n",
      "   1.37454755e-03 -4.29955775e-03]\n",
      " [-2.61748585e-02  1.56299031e-03 -5.85137568e-04 ... -9.94128474e-05\n",
      "  -1.98825695e-04 -8.63013594e-05]]\n"
     ]
    }
   ],
   "source": [
    "#def P3():\n",
    "### STUDENT START ###\n",
    "# Setting default parameters for CountVectorizer\n",
    "CountVect = CountVectorizer()\n",
    "CountVect_train = CountVect.fit_transform(train_data)\n",
    "CV_dev = CountVect.transform(dev_data)\n",
    "\n",
    "# # k-Nearest Neighbors model\n",
    "kNN = KNeighborsClassifier(n_neighbors=91)\n",
    "kNN.fit(CountVect_train, train_labels)\n",
    "kNN_predict = kNN.predict(CV_dev)\n",
    "kNN_f1 = metrics.f1_score(dev_labels, kNN_predict, average='weighted')\n",
    "print(\"The f1 score for k-Nearest Neighbors is:\", round(kNN_f1, 4))\n",
    "\n",
    "# # Multinomial Naive Bayes model\n",
    "MNNB = MultinomialNB(alpha=0.1)\n",
    "MNNB.fit(CountVect_train, train_labels)\n",
    "MNNB_pred = MNNB.predict(CV_dev)\n",
    "MNNB_f1 = metrics.f1_score(dev_labels, MNNB_pred, average='weighted')\n",
    "print(\"The f1 score for Multinominal Naive Bayes is:\", round(MNNB_f1, 4))\n",
    "\n",
    "# # Logistic Regression Model - 'l2' regularization\n",
    "LogReg = LogisticRegression(C=0.1, max_iter=400, penalty = 'l2')   # max_iter is set due to getting error on default\n",
    "LogReg.fit(CountVect_train, train_labels)\n",
    "LogReg_pred = LogReg.predict(CV_dev)\n",
    "LogReg_f1 = metrics.f1_score(dev_labels, LogReg_pred, average='weighted')\n",
    "print(\"The f1 score for Logistic Regression is:\", round(LogReg_f1, 4))\n",
    "print(\"\")\n",
    "    \n",
    "print(\"Sum of squared weights for each class:\")\n",
    "print(LogReg.coef_)\n",
    "### STUDENT END ###\n",
    "#P3()"
   ]
  },
  {
   "cell_type": "markdown",
   "metadata": {
    "colab_type": "text",
    "id": "jWtXwAlOFsxr"
   },
   "source": [
    "ANSWER:"
   ]
  },
  {
   "cell_type": "markdown",
   "metadata": {
    "colab_type": "text",
    "id": "dGEjsm_uFsxr"
   },
   "source": [
    "### Part 4:\n",
    "\n",
    "Train a logistic regression model. Find the 5 features with the largest weights for each label -- 20 features in total. Create a table with 20 rows and 4 columns that shows the weight for each of these features for each of the labels. Create the table again with bigram features. Any surprising features in this table?"
   ]
  },
  {
   "cell_type": "code",
   "execution_count": 5,
   "metadata": {
    "ExecuteTime": {
     "end_time": "2020-10-17T17:51:09.151425Z",
     "start_time": "2020-10-17T17:51:02.713660Z"
    },
    "colab": {},
    "colab_type": "code",
    "id": "WN51Nv4fFsxs"
   },
   "outputs": [
    {
     "name": "stdout",
     "output_type": "stream",
     "text": [
      "[[-0.35746130312790586, 0.3787161577035587, 0.4069874652628062, 0.3526107828527006, 0.33875261544785934], [0.5109066933708672, 0.7665558965309961, 0.5000166797390253, 0.42052873632827903, 0.3935201363547246], [0.9981901187052326, 0.45292361382686946, 0.4399952048300425, -0.36616656274099757, 0.35211951245946216], [-0.3465440710038419, 0.41476308466504297, 0.4211996303967779, 0.4094094685074654, 0.32771638161239586]]\n",
      "[[0.267651421620217, 0.24782393421861987, 0.23831936623670438, 0.2355559628600719, -0.23223818602450222], [0.5515306941119664, 0.42513393357741613, 0.36442352316024224, 0.3461502750683927, 0.31111885219752317], [0.39264684997125243, 0.2845869215789034, 0.4018298108712746, 0.28097394289091776, 0.27721470417765326], [0.2065551389409348, 0.24638298955825322, 0.2157835445753937, 0.21213511181312691, 0.28700098832730525]]\n"
     ]
    }
   ],
   "source": [
    "#def P4():\n",
    "### STUDENT START ###\n",
    "# Transforming the raw data into tokens - default parameters\n",
    "CV = CountVectorizer()\n",
    "CV_train = CV.fit_transform(train_data)\n",
    "# Bigram parameters for CountVectorizer\n",
    "bigram_CV = CountVectorizer(analyzer='word', ngram_range=(2,2))\n",
    "bigram_train = bigram_CV.fit_transform(train_data)\n",
    "\n",
    "# Logistic Regression model - default CV\n",
    "LR = LogisticRegression(C=0.1, max_iter=400)\n",
    "LR.fit(CV_train, train_labels)\n",
    "# Finding largest weights for each feature\n",
    "max_post = []\n",
    "for i in range(LR.coef_.shape[0]):\n",
    "    arr_abs = np.absolute(LR.coef_[i])\n",
    "    temp_list = np.argpartition(-arr_abs, 5)[:5]\n",
    "    temp_values = [LR.coef_[i][n] for n in list(temp_list)]\n",
    "    max_post.append(temp_values)\n",
    "\n",
    "# Table for default Logistic Regression\n",
    "\n",
    "# Bigram - Logistic Regression model\n",
    "bigram_LR = LogisticRegression(C=0.1, max_iter=400)\n",
    "bigram_LR.fit(bigram_train, train_labels)\n",
    "# Weights for each feature bigram model\n",
    "max_bigram = []\n",
    "for i in range(bigram_LR.coef_.shape[0]):\n",
    "    arr_abs = np.absolute(bigram_LR.coef_[i])\n",
    "    temp_list = np.argpartition(-arr_abs, 5)[:5]\n",
    "    temp_values = [bigram_LR.coef_[i][n] for n in list(temp_list)]\n",
    "    max_bigram.append(temp_values)\n",
    "\n",
    "print(max_post)\n",
    "print(max_bigram)\n",
    "### STUDENT END ###\n",
    "#P4()"
   ]
  },
  {
   "cell_type": "markdown",
   "metadata": {
    "colab_type": "text",
    "id": "cY67F-tXFsxt"
   },
   "source": [
    "ANSWER:"
   ]
  },
  {
   "cell_type": "markdown",
   "metadata": {
    "colab_type": "text",
    "id": "rVWhSJHHFsxu"
   },
   "source": [
    "### Part 5:\n",
    "\n",
    "Try to improve the logistic regression classifier by passing a custom preprocessor to CountVectorizer. The preprocessing function runs on the raw text, before it is split into words by the tokenizer. Your preprocessor should try to normalize the input in various ways to improve generalization. For example, try lowercasing everything, replacing sequences of numbers with a single token, removing various other non-letter characters, and shortening long words. If you're not already familiar with regular expressions for manipulating strings, see https://docs.python.org/2/library/re.html, and re.sub() in particular. With your new preprocessor, how much did you reduce the size of the dictionary?\n",
    "\n",
    "For reference, I was able to improve dev F1 by 2 points."
   ]
  },
  {
   "cell_type": "code",
   "execution_count": 58,
   "metadata": {
    "ExecuteTime": {
     "end_time": "2020-10-17T22:57:50.007102Z",
     "start_time": "2020-10-17T22:57:43.929358Z"
    },
    "colab": {},
    "colab_type": "code",
    "id": "l7gS3cGpFsxv"
   },
   "outputs": [
    {
     "name": "stdout",
     "output_type": "stream",
     "text": [
      "\n",
      "The size of the preprocessed training data vocabulary is: 17137\n",
      "The f1 score for the preprocessed Logistic Regression is: 0.7136\n"
     ]
    }
   ],
   "source": [
    "#def empty_preprocessor(s):\n",
    "#    return s\n",
    "\n",
    "#def better_preprocessor(s):\n",
    "### STUDENT START ###\n",
    "# Default CountVectorizer to compare the change\n",
    "CV = CountVectorizer()\n",
    "CV_train = CV.fit_transform(train_data)\n",
    "CV_dev = CV.transform(dev_data)\n",
    "print(\"The size of the training data vocabulary is:\", CV_train.shape[1])\n",
    "\n",
    "LR = LogisticRegression(C=0.1, max_iter=400, penalty = 'l2')\n",
    "LR.fit(CV_train, train_labels)\n",
    "LR_pred = LR.predict(CV_dev)\n",
    "\n",
    "LR_f1 = metrics.f1_score(dev_labels, LR_pred, average='weighted')\n",
    "print(\"The f1 score for Logistic Regression is:\", round(LR_f1, 4))\n",
    "### STUDENT END ###\n",
    "print(\"\")\n",
    "#def P5():\n",
    "### STUDENT START ###\n",
    "# Function for preprocessing the data\n",
    "porter_stemmer = nltk.stem.PorterStemmer()\n",
    "def text_cleaning(text):\n",
    "    # Lowercase every word\n",
    "    text = text.lower()\n",
    "    # Noise Reducing - Cleaning up words\n",
    "    text = re.sub(\"\\\\W|\\\\d\", \" \", text)   # Removing digits and non-ascii characters\n",
    "    # White space removeal\n",
    "    text=text.strip()\n",
    "    # Stop word removal\n",
    "    stop_words = set(nltk.corpus.stopwords.words('english'))\n",
    "    words = re.split(\"\\\\s+\",text)\n",
    "    filt_text = [w for w in words if not w in stop_words] \n",
    "    # Stemming words\n",
    "    stem_words = [porter_stemmer.stem(word=word) for word in filt_text]\n",
    "    stem_text = \" \".join(stem_words)\n",
    "    \n",
    "    return stem_text\n",
    "                      \n",
    "# Preprocessed training data\n",
    "pre_CV = CountVectorizer(preprocessor=text_cleaning)\n",
    "pre_train = pre_CV.fit_transform(train_data)\n",
    "pre_dev = pre_CV.transform(dev_data)\n",
    "print(\"The size of the preprocessed training data vocabulary is:\", pre_train.shape[1])\n",
    "\n",
    "pre_LR = LogisticRegression(C=0.1, max_iter=400, penalty='l2')\n",
    "pre_LR.fit(pre_train, train_labels)\n",
    "pre_LR_predict = pre_LR.predict(pre_dev)\n",
    "\n",
    "pre_LR_f1 = metrics.f1_score(dev_labels, pre_LR_predict, average='weighted')\n",
    "print(\"The f1 score for the preprocessed Logistic Regression is:\", round(pre_LR_f1, 4))\n",
    "### STUDENT END ###\n",
    "#P5()"
   ]
  },
  {
   "cell_type": "markdown",
   "metadata": {
    "colab_type": "text",
    "id": "Uy-WITbNFsxw"
   },
   "source": [
    "### Part 6:\n",
    "\n",
    "The idea of regularization is to avoid learning very large weights (which are likely to fit the training data, but not generalize well) by adding a penalty to the total size of the learned weights. That is, logistic regression seeks the set of weights that minimizes errors in the training data AND has a small size. The default regularization, L2, computes this size as the sum of the squared weights (see P3, above). L1 regularization computes this size as the sum of the absolute values of the weights. The result is that whereas L2 regularization makes all the weights relatively small, L1 regularization drives lots of the weights to 0, effectively removing unimportant features.\n",
    "\n",
    "Train a logistic regression model using a \"l1\" penalty. Output the number of learned weights that are not equal to zero. How does this compare to the number of non-zero weights you get with \"l2\"? Now, reduce the size of the vocabulary by keeping only those features that have at least one non-zero weight and retrain a model using \"l2\".\n",
    "\n",
    "Make a plot showing accuracy of the re-trained model vs. the vocabulary size you get when pruning unused features by adjusting the C parameter.\n",
    "\n",
    "Note: The gradient descent code that trains the logistic regression model sometimes has trouble converging with extreme settings of the C parameter. Relax the convergence criteria by setting tol=.015 (the default is .0001)."
   ]
  },
  {
   "cell_type": "code",
   "execution_count": 109,
   "metadata": {
    "ExecuteTime": {
     "end_time": "2020-10-18T05:47:57.256291Z",
     "start_time": "2020-10-18T05:47:56.560008Z"
    },
    "colab": {},
    "colab_type": "code",
    "id": "l6ho31SrFsxx"
   },
   "outputs": [
    {
     "name": "stdout",
     "output_type": "stream",
     "text": [
      "Number of non-zero weights for l1 Logistic Regression: 218\n",
      "F1-score of 'l1' Logistic Regression model: 0.659\n",
      "F1-score of 'l2' Logistic Regression model: 0.683\n"
     ]
    }
   ],
   "source": [
    "#def P6():\n",
    "    # Keep this random seed here to make comparison easier.\n",
    "np.random.seed(0)\n",
    "\n",
    "    ### STUDENT START ###\n",
    "CV = CountVectorizer()\n",
    "train_CV = CV.fit_transform(train_data)\n",
    "dev_CV = CV.transform(dev_data)\n",
    "    \n",
    "l1_LR = LogisticRegression(C=0.1, max_iter=500, penalty='l1', solver='liblinear', tol = 0.015)\n",
    "l1_LR.fit(train_CV, train_labels)\n",
    "l1_LR_predict = l1_LR.predict(dev_CV)\n",
    "\n",
    "non_zero_matrix = l1_LR.coef_ != 0    # Checks which feature contains zero weights\n",
    "nz_postition = non_zero_matrix.any(axis=0)    # Takes the features that has non_zero weights\n",
    "print(\"Number of non-zero weights for l1 Logistic Regression:\", \n",
    "      sum(nz_postition))\n",
    "# Selecting the features that are only non-zero\n",
    "train_trim = train_CV[:, nz_postition]\n",
    "dev_trim = dev_CV[:, nz_postition]\n",
    "\n",
    "l2_LR = LogisticRegression(C=0.1, max_iter=500, penalty=\"l2\", tol=0.015)\n",
    "l2_LR.fit(train_trim, train_labels)\n",
    "l2_LR_predict = l2_LR.predict(dev_trim)\n",
    "\n",
    "print(\"F1-score of 'l1' Logistic Regression model:\",\n",
    "      round(metrics.f1_score(dev_labels, l1_LR_predict, average='weighted'), 3))\n",
    "print(\"F1-score of 'l2' Logistic Regression model:\",\n",
    "      round(metrics.f1_score(dev_labels, l2_LR_predict, average='weighted'), 3))\n",
    "    ### STUDENT END ###\n",
    "#P6()"
   ]
  },
  {
   "cell_type": "markdown",
   "metadata": {
    "colab_type": "text",
    "id": "QmrHf8AMFsxz"
   },
   "source": [
    "### Part 7:\n",
    "\n",
    "Use the TfidfVectorizer -- how is this different from the CountVectorizer? Train a logistic regression model with C=100.\n",
    "\n",
    "Make predictions on the dev data and show the top 3 documents where the ratio R is largest, where R is:\n",
    "\n",
    "maximum predicted probability / predicted probability of the correct label\n",
    "\n",
    "What kinds of mistakes is the model making? Suggest a way to address one particular issue that you see."
   ]
  },
  {
   "cell_type": "code",
   "execution_count": 94,
   "metadata": {
    "ExecuteTime": {
     "end_time": "2020-10-18T03:59:19.387704Z",
     "start_time": "2020-10-18T03:59:16.786977Z"
    },
    "colab": {},
    "colab_type": "code",
    "id": "8vwU_9t2Fsx0"
   },
   "outputs": [
    {
     "name": "stdout",
     "output_type": "stream",
     "text": [
      "f1 score using TfidfVectorizer: 0.768\n"
     ]
    }
   ],
   "source": [
    "#def P7():\n",
    "### STUDENT START ###\n",
    "# Setting the TfidVectorizer with default settings\n",
    "TV = TfidfVectorizer()\n",
    "train_TV = TV.fit_transform(train_data)\n",
    "dev_TV = TV.transform(dev_data)\n",
    "\n",
    "TV_LR = LogisticRegression(C=100, max_iter=500)\n",
    "TV_LR.fit(train_TV, train_labels)\n",
    "TV_predict = TV_LR.predict(dev_TV)\n",
    "print(\"f1 score using TfidfVectorizer:\", \n",
    "      round(metrics.f1_score(dev_labels, TV_predict, average='weighted'), 4))\n",
    "# Obtaining the max predicted probabilities\n",
    "prob_dev = TV_LR.predict_proba(dev_TV)\n",
    "max_prob = prob_dev.max(axis=1)\n",
    "\n",
    "\n",
    "## STUDENT END ###\n",
    "#P7()"
   ]
  },
  {
   "cell_type": "markdown",
   "metadata": {
    "colab_type": "text",
    "id": "bZmIPwExFsx1"
   },
   "source": [
    "ANSWER:"
   ]
  },
  {
   "cell_type": "markdown",
   "metadata": {
    "colab_type": "text",
    "id": "VmsDxtzoFsx1"
   },
   "source": [
    "### Part 8 EXTRA CREDIT:\n",
    "\n",
    "Try implementing one of your ideas based on your error analysis. Use logistic regression as your underlying model."
   ]
  },
  {
   "cell_type": "code",
   "execution_count": null,
   "metadata": {
    "colab": {},
    "colab_type": "code",
    "id": "ZMaqe8c5Fsx2"
   },
   "outputs": [],
   "source": []
  }
 ],
 "metadata": {
  "colab": {
   "collapsed_sections": [],
   "name": "firstname_lastname_p2.ipynb",
   "private_outputs": true,
   "provenance": [
    {
     "file_id": "https://github.com/MIDS-W207/Master/blob/master/Projects/firstname_lastname_p2.ipynb",
     "timestamp": 1559779272103
    }
   ],
   "version": "0.3.2"
  },
  "kernelspec": {
   "display_name": "Python 3",
   "language": "python",
   "name": "python3"
  },
  "language_info": {
   "codemirror_mode": {
    "name": "ipython",
    "version": 3
   },
   "file_extension": ".py",
   "mimetype": "text/x-python",
   "name": "python",
   "nbconvert_exporter": "python",
   "pygments_lexer": "ipython3",
   "version": "3.7.9"
  },
  "toc": {
   "base_numbering": 1,
   "nav_menu": {},
   "number_sections": false,
   "sideBar": true,
   "skip_h1_title": true,
   "title_cell": "Table of Contents",
   "title_sidebar": "Contents",
   "toc_cell": false,
   "toc_position": {},
   "toc_section_display": true,
   "toc_window_display": false
  }
 },
 "nbformat": 4,
 "nbformat_minor": 1
}
